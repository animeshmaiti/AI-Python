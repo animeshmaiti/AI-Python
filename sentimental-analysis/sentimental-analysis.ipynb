{
 "cells": [
  {
   "cell_type": "markdown",
   "metadata": {},
   "source": [
    "### Installations"
   ]
  },
  {
   "cell_type": "code",
   "execution_count": 1,
   "metadata": {},
   "outputs": [],
   "source": [
    "# !conda install nltk --yes\n",
    "# !conda install -c conda-forge wordcloud --yes\n",
    "# !conda install -c anaconda scikit-learn --yes"
   ]
  },
  {
   "cell_type": "code",
   "execution_count": 2,
   "metadata": {},
   "outputs": [],
   "source": [
    "import pandas as pd\n",
    "import numpy as np"
   ]
  },
  {
   "cell_type": "code",
   "execution_count": 3,
   "metadata": {},
   "outputs": [],
   "source": [
    "data=pd.read_csv(\"../Restaurant_Reviews.csv\")"
   ]
  },
  {
   "cell_type": "markdown",
   "metadata": {},
   "source": [
    " In Python, `re` stands for \"Regular Expressions.\" It is a built-in module that provides support for regular expressions. Regular expressions are powerful tools for pattern matching and text manipulation. The re module allows you to work with regular expressions in Python, enabling you to search for patterns within strings, replace text based on patterns, and more.\n",
    "\n",
    "#### Here's a brief overview of some commonly used functions and methods in the re module:\n",
    "1. `re.compile(pattern)`: Compiles a regular expression pattern into a regex object for efficient use in matching and searching.\n",
    "1. `re.search(pattern, string)`: Searches for the first occurrence of the pattern in the given string and returns a match object if found.\n",
    "1. `re.match(pattern, string)`: Matches the pattern only at the beginning of the string and returns a match object if it's a match.\n",
    "1. `re.findall(pattern, string)`: Returns all non-overlapping matches of the pattern in the string as a list of strings.\n",
    "1. `re.finditer(pattern, string)`: Returns an iterator yielding match objects for all non-overlapping matches of the pattern in the string.\n",
    "1. `re.sub(pattern, replacement, string)`: Replaces all occurrences of the pattern in the string with the specified replacement."
   ]
  },
  {
   "cell_type": "markdown",
   "metadata": {},
   "source": [
    "1. `nltk.download('stopwords')`: This line is used to download the NLTK stopwords dataset. Stopwords are common words (e.g., \"the,\" \"and,\" \"in\") that are often removed from text during text preprocessing because they don't usually carry significant meaning in text analysis. This download makes sure you have the stopwords dataset available for your NLP tasks.\n",
    "1. `from nltk.corpus import stopwords` : import that stopword dataset\n",
    "1. `from nltk.stem.porter import PorterStemmer`: This import brings in the Porter Stemmer algorithm from NLTK. A stemmer is used in NLP to reduce words to their root or base form. The Porter Stemmer is a popular algorithm for stemming words, which means it removes suffixes from words to convert them to their base form. For example, \"running\" becomes \"run,\" and \"jumps\" becomes \"jump.\" Stemming can be useful for text normalization in various NLP applications."
   ]
  },
  {
   "cell_type": "code",
   "execution_count": 4,
   "metadata": {},
   "outputs": [],
   "source": [
    "import string\n",
    "import nltk #It is use for Natural language processing\n",
    "import re\n",
    "# nltk.download('stopwords')\n",
    "from nltk.corpus import stopwords\n",
    "from nltk.stem.porter import PorterStemmer"
   ]
  },
  {
   "cell_type": "markdown",
   "metadata": {},
   "source": [
    "1. `review=re.sub(pattern='[^a-zA-Z]', repl=' ', string=data['Review'][i])`: This line uses the `re.sub` function from the `re` module to perform regular expression-based substitution in the text. It replaces any character that is not a letter (a to z, A to Z) with a space. This step effectively removes any non-alphabetical characters from the text.\n",
    "1. `review=review.lower()`: It converts the entire review text to lowercase.This step ensures that the text is case-insensitive and helps standardize the text for further processing.\n",
    "1. `review_words=review.split()`: The `split()` method splits the `review` string into a list of words. By default, it splits on whitespace, effectively creating a list of individual words.\n",
    "1. `review_words=[word for word in review_words if not word in set(stopwords.words('english'))]`: Here, we are using a list comprehension to filter out common English `stopwords` from the `review_words` list. It checks if each word is not in the set of English `stopwords` provided by NLTK's `stopwords.words('english')` and retains only the words that are not `stopwords`.(the,and,in etc.)\n",
    "1. `ps=PorterStemmer()`: This line creates an instance of the Porter Stemmer from NLTK. The Porter Stemmer is used for word stemming, which reduces words to their base or root form. Stemming helps to group similar words together.\n",
    "1. `review=[ps.stem(word) for word in review_words]`: Another list comprehension is used here to apply stemming to each word in the `review_words` list using the Porter Stemmer. This replaces each word with its stemmed form.\n",
    "1. `review=' '.join(review)`: After stemming, the list of words is joined back together into a single string with words separated by spaces.\n",
    "1. `corpus.append(review)`: Finally, the preprocessed review is added to the corpus list. This list will contain all the preprocessed text reviews from the dataset."
   ]
  },
  {
   "cell_type": "code",
   "execution_count": 5,
   "metadata": {},
   "outputs": [],
   "source": [
    "corpus=[]\n",
    "for i in range(0,1000):\n",
    "    review=re.sub(pattern='[^a-zA-Z]',repl=' ',string=data['Review'][i])\n",
    "    review=review.lower()\n",
    "    review_words=review.split()\n",
    "    review_words=[word for word in review_words if not word in set(stopwords.words('english'))]\n",
    "    ps=PorterStemmer()\n",
    "    review=[ps.stem(word) for word in review_words]\n",
    "    review=' '.join(review)\n",
    "    corpus.append(review)\n",
    "    "
   ]
  },
  {
   "cell_type": "code",
   "execution_count": null,
   "metadata": {},
   "outputs": [],
   "source": [
    "corpus[:1500]"
   ]
  },
  {
   "cell_type": "markdown",
   "metadata": {},
   "source": [
    "### Not necessary"
   ]
  },
  {
   "cell_type": "code",
   "execution_count": 7,
   "metadata": {},
   "outputs": [],
   "source": [
    "from wordcloud import WordCloud\n",
    "import matplotlib.pyplot as plt"
   ]
  },
  {
   "cell_type": "code",
   "execution_count": null,
   "metadata": {},
   "outputs": [],
   "source": [
    "word_cloud=data.loc[data['Liked']==1,:]\n",
    "text=' '.join([text for text in word_cloud['Review']])\n",
    "wordcloud=WordCloud(width=800,height=400,background_color='white').generate(text)\n",
    "\n",
    "plt.figure(figsize=(10,5))\n",
    "plt.imshow(wordcloud,interpolation='bilinear')\n",
    "plt.axis('off') # turns off the axis labels \n",
    "plt.show()"
   ]
  },
  {
   "cell_type": "code",
   "execution_count": null,
   "metadata": {},
   "outputs": [],
   "source": [
    "word_cloud=data.loc[data['Liked']==0,:]\n",
    "text=' '.join([text for text in word_cloud['Review']])\n",
    "wordcloud=WordCloud(width=800,height=400,background_color='white').generate(text)\n",
    "\n",
    "plt.figure(figsize=(10,5))\n",
    "plt.imshow(wordcloud,interpolation='bilinear')\n",
    "plt.axis('off') # turns off the axis labels \n",
    "plt.show()"
   ]
  },
  {
   "cell_type": "markdown",
   "metadata": {},
   "source": [
    "### CountVectorizer:\n",
    "\n",
    "`CountVectorizer` is a text preprocessing technique that is used to convert a collection of text documents into a numerical feature matrix. It works by counting the number of times each word (or term) appears in the text and representing this information as a matrix.\n",
    "\n",
    "#### Here are some key points about CountVectorizer:\n",
    "\n",
    "1. `Tokenization`: It tokenizes the text, which means it breaks the text down into individual words or terms.\n",
    "\n",
    "1. `Vocabulary Building`: It builds a vocabulary of all the unique words (terms) in the text corpus. Each word becomes a feature, and the position (column) of the word in the feature matrix represents that word.\n",
    "\n",
    "1. `Counting`: For each document in the corpus, it counts how many times each word from the vocabulary appears in that document.\n",
    "\n",
    "1. `Sparse Matrix`: The result is a sparse matrix where each row corresponds to a document, and each column corresponds to a word from the vocabulary. The matrix contains the word counts for each document.\n",
    "\n",
    "1. `Feature Extraction`: CountVectorizer transforms the text data into a format that can be used as input for machine learning algorithms. This numerical representation allows you to apply various machine learning techniques to text data."
   ]
  },
  {
   "cell_type": "code",
   "execution_count": 10,
   "metadata": {},
   "outputs": [],
   "source": [
    "from sklearn.feature_extraction.text import CountVectorizer"
   ]
  },
  {
   "cell_type": "markdown",
   "metadata": {},
   "source": [
    "1. `vectorizer=CountVectorizer(max_features=1500)`: Here, we are creating an instance of the `CountVectorizer` class and specifying the parameter `max_features=1500`. This parameter limits the number of features (words) that will be included in the feature matrix to the top 1500 most frequent words in the corpus. It's a way to reduce the dimensionality of the feature matrix, which can help manage memory and improve model performance.\n",
    "1. `x=vectorizer.fit_transform(corpus).toarray()`: This line is where the magic happens:\n",
    "\n",
    "    - `vectorizer.fit_transform(corpus)` fits the `CountVectorizer` to the corpus (the preprocessed text data we created earlier) and transforms it into a feature matrix. Each row of the matrix corresponds to a document in the corpus, and each column represents a word from the vocabulary.\n",
    "    - `.toarray()` converts the resulting sparse matrix into a dense NumPy array. This is done because many machine learning algorithms prefer or require dense arrays as input.\n",
    "1. `y=data.iloc[:,1].values`: This line is used to extract the target variable (usually labels or classes) from the dataset stored in the DataFrame data. Specifically:\n",
    "    - `data.iloc[:,1]` extracts all rows from the second column(Liked) of the DataFrame (Python uses 0-based indexing, so the second column is indexed as 1).\n",
    "    - `.values` converts the selected column into a `NumPy` array. This is commonly done to ensure that y is a NumPy array that can be used as the target variable for machine learning models.<br>\n",
    "\n",
    "This code cell is preparing the text data for machine learning by using `CountVectorizer` to convert the text corpus into a feature matrix `x`. It also extracts the target variable `y` from the dataset. This is a typical setup for `supervised machine learning` tasks where we have text data and corresponding labels or classes that we want to use to train a predictive model."
   ]
  },
  {
   "cell_type": "code",
   "execution_count": 11,
   "metadata": {},
   "outputs": [],
   "source": [
    "vectorizer=CountVectorizer(max_features=1500)\n",
    "x=vectorizer.fit_transform(corpus).toarray()\n",
    "y=data.iloc[:,1].values"
   ]
  },
  {
   "cell_type": "code",
   "execution_count": 12,
   "metadata": {},
   "outputs": [],
   "source": [
    "from sklearn.model_selection import train_test_split\n",
    "X_train,X_test,y_train,y_test=train_test_split(x,y,test_size=0.2,random_state=0)"
   ]
  },
  {
   "cell_type": "code",
   "execution_count": 13,
   "metadata": {},
   "outputs": [],
   "source": [
    "from sklearn.naive_bayes import MultinomialNB"
   ]
  },
  {
   "cell_type": "code",
   "execution_count": 14,
   "metadata": {},
   "outputs": [
    {
     "data": {
      "text/html": [
       "<style>#sk-container-id-1 {color: black;background-color: white;}#sk-container-id-1 pre{padding: 0;}#sk-container-id-1 div.sk-toggleable {background-color: white;}#sk-container-id-1 label.sk-toggleable__label {cursor: pointer;display: block;width: 100%;margin-bottom: 0;padding: 0.3em;box-sizing: border-box;text-align: center;}#sk-container-id-1 label.sk-toggleable__label-arrow:before {content: \"▸\";float: left;margin-right: 0.25em;color: #696969;}#sk-container-id-1 label.sk-toggleable__label-arrow:hover:before {color: black;}#sk-container-id-1 div.sk-estimator:hover label.sk-toggleable__label-arrow:before {color: black;}#sk-container-id-1 div.sk-toggleable__content {max-height: 0;max-width: 0;overflow: hidden;text-align: left;background-color: #f0f8ff;}#sk-container-id-1 div.sk-toggleable__content pre {margin: 0.2em;color: black;border-radius: 0.25em;background-color: #f0f8ff;}#sk-container-id-1 input.sk-toggleable__control:checked~div.sk-toggleable__content {max-height: 200px;max-width: 100%;overflow: auto;}#sk-container-id-1 input.sk-toggleable__control:checked~label.sk-toggleable__label-arrow:before {content: \"▾\";}#sk-container-id-1 div.sk-estimator input.sk-toggleable__control:checked~label.sk-toggleable__label {background-color: #d4ebff;}#sk-container-id-1 div.sk-label input.sk-toggleable__control:checked~label.sk-toggleable__label {background-color: #d4ebff;}#sk-container-id-1 input.sk-hidden--visually {border: 0;clip: rect(1px 1px 1px 1px);clip: rect(1px, 1px, 1px, 1px);height: 1px;margin: -1px;overflow: hidden;padding: 0;position: absolute;width: 1px;}#sk-container-id-1 div.sk-estimator {font-family: monospace;background-color: #f0f8ff;border: 1px dotted black;border-radius: 0.25em;box-sizing: border-box;margin-bottom: 0.5em;}#sk-container-id-1 div.sk-estimator:hover {background-color: #d4ebff;}#sk-container-id-1 div.sk-parallel-item::after {content: \"\";width: 100%;border-bottom: 1px solid gray;flex-grow: 1;}#sk-container-id-1 div.sk-label:hover label.sk-toggleable__label {background-color: #d4ebff;}#sk-container-id-1 div.sk-serial::before {content: \"\";position: absolute;border-left: 1px solid gray;box-sizing: border-box;top: 0;bottom: 0;left: 50%;z-index: 0;}#sk-container-id-1 div.sk-serial {display: flex;flex-direction: column;align-items: center;background-color: white;padding-right: 0.2em;padding-left: 0.2em;position: relative;}#sk-container-id-1 div.sk-item {position: relative;z-index: 1;}#sk-container-id-1 div.sk-parallel {display: flex;align-items: stretch;justify-content: center;background-color: white;position: relative;}#sk-container-id-1 div.sk-item::before, #sk-container-id-1 div.sk-parallel-item::before {content: \"\";position: absolute;border-left: 1px solid gray;box-sizing: border-box;top: 0;bottom: 0;left: 50%;z-index: -1;}#sk-container-id-1 div.sk-parallel-item {display: flex;flex-direction: column;z-index: 1;position: relative;background-color: white;}#sk-container-id-1 div.sk-parallel-item:first-child::after {align-self: flex-end;width: 50%;}#sk-container-id-1 div.sk-parallel-item:last-child::after {align-self: flex-start;width: 50%;}#sk-container-id-1 div.sk-parallel-item:only-child::after {width: 0;}#sk-container-id-1 div.sk-dashed-wrapped {border: 1px dashed gray;margin: 0 0.4em 0.5em 0.4em;box-sizing: border-box;padding-bottom: 0.4em;background-color: white;}#sk-container-id-1 div.sk-label label {font-family: monospace;font-weight: bold;display: inline-block;line-height: 1.2em;}#sk-container-id-1 div.sk-label-container {text-align: center;}#sk-container-id-1 div.sk-container {/* jupyter's `normalize.less` sets `[hidden] { display: none; }` but bootstrap.min.css set `[hidden] { display: none !important; }` so we also need the `!important` here to be able to override the default hidden behavior on the sphinx rendered scikit-learn.org. See: https://github.com/scikit-learn/scikit-learn/issues/21755 */display: inline-block !important;position: relative;}#sk-container-id-1 div.sk-text-repr-fallback {display: none;}</style><div id=\"sk-container-id-1\" class=\"sk-top-container\"><div class=\"sk-text-repr-fallback\"><pre>MultinomialNB()</pre><b>In a Jupyter environment, please rerun this cell to show the HTML representation or trust the notebook. <br />On GitHub, the HTML representation is unable to render, please try loading this page with nbviewer.org.</b></div><div class=\"sk-container\" hidden><div class=\"sk-item\"><div class=\"sk-estimator sk-toggleable\"><input class=\"sk-toggleable__control sk-hidden--visually\" id=\"sk-estimator-id-1\" type=\"checkbox\" checked><label for=\"sk-estimator-id-1\" class=\"sk-toggleable__label sk-toggleable__label-arrow\">MultinomialNB</label><div class=\"sk-toggleable__content\"><pre>MultinomialNB()</pre></div></div></div></div></div>"
      ],
      "text/plain": [
       "MultinomialNB()"
      ]
     },
     "execution_count": 14,
     "metadata": {},
     "output_type": "execute_result"
    }
   ],
   "source": [
    "classifier=MultinomialNB()\n",
    "classifier.fit(X_train,y_train)"
   ]
  },
  {
   "cell_type": "code",
   "execution_count": null,
   "metadata": {},
   "outputs": [],
   "source": [
    "y_pred=classifier.predict(X_test)\n",
    "y_pred"
   ]
  },
  {
   "cell_type": "code",
   "execution_count": 16,
   "metadata": {},
   "outputs": [],
   "source": [
    "from sklearn.metrics import accuracy_score,precision_score,recall_score,confusion_matrix"
   ]
  },
  {
   "cell_type": "code",
   "execution_count": null,
   "metadata": {},
   "outputs": [],
   "source": [
    "accuracy=accuracy_score(y_test,y_pred)\n",
    "precision=precision_score(y_test,y_pred)\n",
    "recall=recall_score(y_test,y_pred)\n",
    "print('-----scores-----')\n",
    "print('accuracy score {}%'.format(round(accuracy*100,2)))\n",
    "print('precision score {}%'.format(round(precision*100,2)))\n",
    "print('recall score {}%'.format(round(recall*100,2)))\n"
   ]
  },
  {
   "cell_type": "code",
   "execution_count": null,
   "metadata": {},
   "outputs": [],
   "source": [
    "c_m=confusion_matrix(y_test,y_pred)\n",
    "c_m"
   ]
  },
  {
   "cell_type": "code",
   "execution_count": 19,
   "metadata": {},
   "outputs": [],
   "source": [
    "import matplotlib.pyplot as plt\n",
    "import seaborn as sns\n",
    "%matplotlib inline"
   ]
  },
  {
   "cell_type": "code",
   "execution_count": 20,
   "metadata": {},
   "outputs": [
    {
     "data": {
      "text/plain": [
       "Text(95.72222222222221, 0.5, 'Actual value')"
      ]
     },
     "execution_count": 20,
     "metadata": {},
     "output_type": "execute_result"
    },
    {
     "data": {
      "image/png": "[encoded data removed]",
      "text/plain": [
       "<Figure size 1000x600 with 2 Axes>"
      ]
     },
     "metadata": {},
     "output_type": "display_data"
    }
   ],
   "source": [
    "plt.figure(figsize=(10,6))\n",
    "sns.heatmap(c_m,annot=True,cmap='YlGnBu',xticklabels=['Negative','Positive'],yticklabels=['Negative','Positive'])\n",
    "plt.xlabel('Predicted value')\n",
    "plt.ylabel('Actual value')"
   ]
  },
  {
   "cell_type": "code",
   "execution_count": 21,
   "metadata": {},
   "outputs": [
    {
     "name": "stdout",
     "output_type": "stream",
     "text": [
      "accuracy score for alpha-0.0 is :76.5%\n",
      "accuracy score for alpha-0.1 is :78.0%\n",
      "accuracy score for alpha-0.2 is :78.5%\n",
      "accuracy score for alpha-0.3 is :78.0%\n",
      "accuracy score for alpha-0.4 is :78.0%\n",
      "accuracy score for alpha-0.5 is :77.5%\n",
      "accuracy score for alpha-0.6 is :77.5%\n",
      "accuracy score for alpha-0.7 is :77.5%\n",
      "accuracy score for alpha-0.8 is :77.0%\n",
      "accuracy score for alpha-0.9 is :76.5%\n",
      "accuracy score for alpha-1.0 is :76.5%\n",
      ".......................\n",
      "the best accuracy is 78.5%\n"
     ]
    }
   ],
   "source": [
    "# Hyper parameter tuning\n",
    "best_accuracy=0.0\n",
    "alpha_value=0\n",
    "\n",
    "for i in np.arange(0.01,1.1,0.1):\n",
    "    temp_cls=MultinomialNB(alpha=i)\n",
    "    temp_cls.fit(X_train,y_train)\n",
    "    y_test_pred_h_nbayes=temp_cls.predict(X_test)\n",
    "    score=accuracy_score(y_test,y_test_pred_h_nbayes)\n",
    "    print(\"accuracy score for alpha-{} is :{}%\".format(round(i,1),round(score*100,2)))\n",
    "    if score>best_accuracy:\n",
    "        best_accuracy=score\n",
    "        alpha_value=i\n",
    "print('.......................')\n",
    "print(\"the best accuracy is {}%\".format(round(best_accuracy*100,2),round(alpha_value,1)))"
   ]
  },
  {
   "cell_type": "code",
   "execution_count": 22,
   "metadata": {},
   "outputs": [
    {
     "data": {
      "text/html": [
       "<style>#sk-container-id-2 {color: black;background-color: white;}#sk-container-id-2 pre{padding: 0;}#sk-container-id-2 div.sk-toggleable {background-color: white;}#sk-container-id-2 label.sk-toggleable__label {cursor: pointer;display: block;width: 100%;margin-bottom: 0;padding: 0.3em;box-sizing: border-box;text-align: center;}#sk-container-id-2 label.sk-toggleable__label-arrow:before {content: \"▸\";float: left;margin-right: 0.25em;color: #696969;}#sk-container-id-2 label.sk-toggleable__label-arrow:hover:before {color: black;}#sk-container-id-2 div.sk-estimator:hover label.sk-toggleable__label-arrow:before {color: black;}#sk-container-id-2 div.sk-toggleable__content {max-height: 0;max-width: 0;overflow: hidden;text-align: left;background-color: #f0f8ff;}#sk-container-id-2 div.sk-toggleable__content pre {margin: 0.2em;color: black;border-radius: 0.25em;background-color: #f0f8ff;}#sk-container-id-2 input.sk-toggleable__control:checked~div.sk-toggleable__content {max-height: 200px;max-width: 100%;overflow: auto;}#sk-container-id-2 input.sk-toggleable__control:checked~label.sk-toggleable__label-arrow:before {content: \"▾\";}#sk-container-id-2 div.sk-estimator input.sk-toggleable__control:checked~label.sk-toggleable__label {background-color: #d4ebff;}#sk-container-id-2 div.sk-label input.sk-toggleable__control:checked~label.sk-toggleable__label {background-color: #d4ebff;}#sk-container-id-2 input.sk-hidden--visually {border: 0;clip: rect(1px 1px 1px 1px);clip: rect(1px, 1px, 1px, 1px);height: 1px;margin: -1px;overflow: hidden;padding: 0;position: absolute;width: 1px;}#sk-container-id-2 div.sk-estimator {font-family: monospace;background-color: #f0f8ff;border: 1px dotted black;border-radius: 0.25em;box-sizing: border-box;margin-bottom: 0.5em;}#sk-container-id-2 div.sk-estimator:hover {background-color: #d4ebff;}#sk-container-id-2 div.sk-parallel-item::after {content: \"\";width: 100%;border-bottom: 1px solid gray;flex-grow: 1;}#sk-container-id-2 div.sk-label:hover label.sk-toggleable__label {background-color: #d4ebff;}#sk-container-id-2 div.sk-serial::before {content: \"\";position: absolute;border-left: 1px solid gray;box-sizing: border-box;top: 0;bottom: 0;left: 50%;z-index: 0;}#sk-container-id-2 div.sk-serial {display: flex;flex-direction: column;align-items: center;background-color: white;padding-right: 0.2em;padding-left: 0.2em;position: relative;}#sk-container-id-2 div.sk-item {position: relative;z-index: 1;}#sk-container-id-2 div.sk-parallel {display: flex;align-items: stretch;justify-content: center;background-color: white;position: relative;}#sk-container-id-2 div.sk-item::before, #sk-container-id-2 div.sk-parallel-item::before {content: \"\";position: absolute;border-left: 1px solid gray;box-sizing: border-box;top: 0;bottom: 0;left: 50%;z-index: -1;}#sk-container-id-2 div.sk-parallel-item {display: flex;flex-direction: column;z-index: 1;position: relative;background-color: white;}#sk-container-id-2 div.sk-parallel-item:first-child::after {align-self: flex-end;width: 50%;}#sk-container-id-2 div.sk-parallel-item:last-child::after {align-self: flex-start;width: 50%;}#sk-container-id-2 div.sk-parallel-item:only-child::after {width: 0;}#sk-container-id-2 div.sk-dashed-wrapped {border: 1px dashed gray;margin: 0 0.4em 0.5em 0.4em;box-sizing: border-box;padding-bottom: 0.4em;background-color: white;}#sk-container-id-2 div.sk-label label {font-family: monospace;font-weight: bold;display: inline-block;line-height: 1.2em;}#sk-container-id-2 div.sk-label-container {text-align: center;}#sk-container-id-2 div.sk-container {/* jupyter's `normalize.less` sets `[hidden] { display: none; }` but bootstrap.min.css set `[hidden] { display: none !important; }` so we also need the `!important` here to be able to override the default hidden behavior on the sphinx rendered scikit-learn.org. See: https://github.com/scikit-learn/scikit-learn/issues/21755 */display: inline-block !important;position: relative;}#sk-container-id-2 div.sk-text-repr-fallback {display: none;}</style><div id=\"sk-container-id-2\" class=\"sk-top-container\"><div class=\"sk-text-repr-fallback\"><pre>MultinomialNB(alpha=0.2)</pre><b>In a Jupyter environment, please rerun this cell to show the HTML representation or trust the notebook. <br />On GitHub, the HTML representation is unable to render, please try loading this page with nbviewer.org.</b></div><div class=\"sk-container\" hidden><div class=\"sk-item\"><div class=\"sk-estimator sk-toggleable\"><input class=\"sk-toggleable__control sk-hidden--visually\" id=\"sk-estimator-id-2\" type=\"checkbox\" checked><label for=\"sk-estimator-id-2\" class=\"sk-toggleable__label sk-toggleable__label-arrow\">MultinomialNB</label><div class=\"sk-toggleable__content\"><pre>MultinomialNB(alpha=0.2)</pre></div></div></div></div></div>"
      ],
      "text/plain": [
       "MultinomialNB(alpha=0.2)"
      ]
     },
     "execution_count": 22,
     "metadata": {},
     "output_type": "execute_result"
    }
   ],
   "source": [
    "classifier=MultinomialNB(alpha=0.2)\n",
    "classifier.fit(X_train,y_train)"
   ]
  },
  {
   "cell_type": "code",
   "execution_count": 23,
   "metadata": {},
   "outputs": [],
   "source": [
    "def predict_sentiment(sample_review):\n",
    "    sample_review = re.sub(pattern='[^a-zA-Z]',repl=' ',string=sample_review)\n",
    "    sample_review = sample_review.lower()\n",
    "    sample_review_words=sample_review.split()\n",
    "    sample_review_words=[word for word in sample_review_words if not word in set(stopwords.words('english'))]\n",
    "    ps=PorterStemmer()\n",
    "    final_review=[ps.stem(word) for word in sample_review_words]\n",
    "    final_review=' '.join(final_review)\n",
    "    temp=vectorizer.transform([final_review]).toarray()\n",
    "    return classifier.predict(temp)"
   ]
  },
  {
   "cell_type": "code",
   "execution_count": 24,
   "metadata": {},
   "outputs": [
    {
     "name": "stdout",
     "output_type": "stream",
     "text": [
      "positive review\n"
     ]
    }
   ],
   "source": [
    "# review = \"food is really bad\"\n",
    "review=\"food is wonderful pleasing\"\n",
    "if predict_sentiment(review):\n",
    "    print(\"positive review\")\n",
    "else:\n",
    "    print(\"negative review\")"
   ]
  }
 ],
 "metadata": {
  "kernelspec": {
   "display_name": "base",
   "language": "python",
   "name": "python3"
  },
  "language_info": {
   "codemirror_mode": {
    "name": "ipython",
    "version": 3
   },
   "file_extension": ".py",
   "mimetype": "text/x-python",
   "name": "python",
   "nbconvert_exporter": "python",
   "pygments_lexer": "ipython3",
   "version": "3.10.12"
  },
  "orig_nbformat": 4
 },
 "nbformat": 4,
 "nbformat_minor": 2
}
